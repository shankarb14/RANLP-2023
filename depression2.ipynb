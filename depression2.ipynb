{
  "nbformat": 4,
  "nbformat_minor": 0,
  "metadata": {
    "colab": {
      "provenance": []
    },
    "kernelspec": {
      "name": "python3",
      "display_name": "Python 3"
    },
    "language_info": {
      "name": "python"
    }
  },
  "cells": [
    {
      "cell_type": "code",
      "execution_count": null,
      "metadata": {
        "id": "b1SzG_lCKDty"
      },
      "outputs": [],
      "source": [
        "import tensorflow as tf\n",
        "from tensorflow.keras.models import Sequential     # the model\n",
        "from tensorflow.keras.layers import Embedding, LSTM, Dense,Dropout,Bidirectional # layers of the architecture\n",
        "from tensorflow.keras.callbacks import ModelCheckpoint   # save model\n",
        "from tensorflow.keras.models import load_model   # load saved model\n",
        "import matplotlib.pyplot as plt\n",
        "import pandas as pd\n",
        "import pickle\n",
        "import numpy as np"
      ]
    },
    {
      "cell_type": "markdown",
      "source": [
        "reading file"
      ],
      "metadata": {
        "id": "zbRN0EcyNg7m"
      }
    },
    {
      "cell_type": "code",
      "source": [
        "df = pd.read_csv(\"/content/train_data.csv\")\n",
        "train_label = df.Label\n",
        "df2 =pd.read_csv(\"/content/dev_data.csv\")\n",
        "valid_label = df2.Labels"
      ],
      "metadata": {
        "id": "kpzryU0VMDAe"
      },
      "execution_count": null,
      "outputs": []
    },
    {
      "cell_type": "code",
      "source": [
        "# retrive train data\n",
        "pickle_in = open(\"pubmed_bertrain.pickle\", \"rb\")\n",
        "clinical_train = pickle.load(pickle_in)\n",
        "# retrive valid data\n",
        "pickle_in = open(\"pubmed_valid.pickle\", \"rb\")\n",
        "clinical_valid = pickle.load(pickle_in)"
      ],
      "metadata": {
        "id": "7IimTvo4NaTk"
      },
      "execution_count": null,
      "outputs": []
    },
    {
      "cell_type": "code",
      "source": [
        "from sklearn.preprocessing import OneHotEncoder\n",
        "\n",
        "# Assuming you have your labels stored in Y_train as a 1D array\n",
        "\n",
        "# Create an instance of OneHotEncoder\n",
        "encoder = OneHotEncoder()\n",
        "train_label_reshaped = train_label.values.reshape(-1, 1)\n",
        "train_label_encoded = encoder.fit_transform(train_label_reshaped)\n",
        "Ltrain = train_label_encoded.toarray()\n",
        "encoder = OneHotEncoder()\n",
        "valid_label_reshaped = valid_label.values.reshape(-1, 1)\n",
        "valid_label_encoded = encoder.fit_transform(valid_label_reshaped)\n",
        "Lvalid = valid_label_encoded.toarray()\n",
        "\n",
        "# Print the encoded labels\n",
        "print(Ltrain,Lvalid)"
      ],
      "metadata": {
        "id": "cxqQXL4BN0jU"
      },
      "execution_count": null,
      "outputs": []
    },
    {
      "cell_type": "code",
      "source": [
        "from imblearn.over_sampling import SMOTE\n",
        "\n",
        "# Assuming 'X' contains the feature data and 'y' contains the corresponding labels\n",
        "\n",
        "# Apply SMOTE oversampling\n",
        "smote = SMOTE()\n",
        "# Assuming X_train and y_train are your training data and label\n",
        "clinical_train2, Ltrain2= smote.fit_resample(clinical_train, Ltrain)\n",
        "clinical_valid2, Lvalid2= smote.fit_resample(clinical_valid, Lvalid)"
      ],
      "metadata": {
        "id": "Deh5U6m3pgTm"
      },
      "execution_count": null,
      "outputs": []
    },
    {
      "cell_type": "code",
      "source": [
        "clinical_train2 = clinical_train2.reshape(-1, 768, 1)\n",
        "clinical_valid2 = clinical_valid2.reshape(-1, 768, 1)\n"
      ],
      "metadata": {
        "id": "rV3M6-7TOfhM"
      },
      "execution_count": null,
      "outputs": []
    },
    {
      "cell_type": "code",
      "source": [
        "from tensorflow.keras import layers\n",
        "\n",
        "model_bert = Sequential()\n",
        "model_bert.add(Bidirectional(LSTM(60, return_sequences=True)))\n",
        "model_bert.add(Dropout(0.3))\n",
        "model_bert.add(Bidirectional(LSTM(30)))\n",
        "model_bert.add(Dropout(0.2))\n",
        "model_bert.add(Dense(10, activation='relu'))\n",
        "model_bert.add(Dropout(0.4))\n",
        "model_bert.add(Dense(3, activation='softmax'))\n",
        "\n",
        "model_bert.compile(loss='categorical_crossentropy', optimizer='adam', metrics=['accuracy'])\n",
        "\n",
        "history = model_bert.fit(clinical_train2, Ltrain2, batch_size=100, epochs=10)\n",
        "\n"
      ],
      "metadata": {
        "colab": {
          "base_uri": "https://localhost:8080/"
        },
        "id": "cpHILQZfPVuV",
        "outputId": "ac8e0ceb-cebe-4fbf-cced-53d5f28e60fc"
      },
      "execution_count": null,
      "outputs": [
        {
          "output_type": "stream",
          "name": "stdout",
          "text": [
            "Epoch 1/10\n",
            "111/111 [==============================] - 262s 2s/step - loss: 1.0653 - accuracy: 0.4326\n",
            "Epoch 2/10\n",
            "111/111 [==============================] - 250s 2s/step - loss: 1.0134 - accuracy: 0.4841\n",
            "Epoch 3/10\n",
            "111/111 [==============================] - 250s 2s/step - loss: 0.9857 - accuracy: 0.5092\n",
            "Epoch 4/10\n",
            "111/111 [==============================] - 244s 2s/step - loss: 0.9673 - accuracy: 0.5221\n",
            "Epoch 5/10\n",
            "111/111 [==============================] - 249s 2s/step - loss: 0.9587 - accuracy: 0.5338\n",
            "Epoch 6/10\n",
            "111/111 [==============================] - 248s 2s/step - loss: 0.9468 - accuracy: 0.5419\n",
            "Epoch 7/10\n",
            "111/111 [==============================] - 249s 2s/step - loss: 0.9385 - accuracy: 0.5439\n",
            "Epoch 8/10\n",
            "111/111 [==============================] - 249s 2s/step - loss: 0.9365 - accuracy: 0.5476\n",
            "Epoch 9/10\n",
            "111/111 [==============================] - 248s 2s/step - loss: 0.9305 - accuracy: 0.5489\n",
            "Epoch 10/10\n",
            "111/111 [==============================] - 250s 2s/step - loss: 0.9293 - accuracy: 0.5543\n"
          ]
        }
      ]
    },
    {
      "cell_type": "code",
      "source": [
        "# classification report\n",
        "from sklearn.metrics import classification_report\n",
        "y_pred = model_bert.predict(clinical_valid2)\n",
        "y_predN=np.round(y_pred)\n",
        "print(classification_report(Lvalid2, y_predN))\n"
      ],
      "metadata": {
        "colab": {
          "base_uri": "https://localhost:8080/"
        },
        "id": "PBo8hXzKbLPa",
        "outputId": "3b1c925a-c94a-45b8-8e9f-c91a7afb76df"
      },
      "execution_count": null,
      "outputs": [
        {
          "output_type": "stream",
          "name": "stdout",
          "text": [
            "204/204 [==============================] - 57s 274ms/step\n",
            "              precision    recall  f1-score   support\n",
            "\n",
            "           0       0.55      0.02      0.05      2169\n",
            "           1       0.60      0.27      0.37      2169\n",
            "           2       0.63      0.64      0.64      2169\n",
            "\n",
            "   micro avg       0.62      0.31      0.41      6507\n",
            "   macro avg       0.59      0.31      0.35      6507\n",
            "weighted avg       0.59      0.31      0.35      6507\n",
            " samples avg       0.31      0.31      0.31      6507\n",
            "\n"
          ]
        },
        {
          "output_type": "stream",
          "name": "stderr",
          "text": [
            "/usr/local/lib/python3.10/dist-packages/sklearn/metrics/_classification.py:1344: UndefinedMetricWarning: Precision and F-score are ill-defined and being set to 0.0 in samples with no predicted labels. Use `zero_division` parameter to control this behavior.\n",
            "  _warn_prf(average, modifier, msg_start, len(result))\n"
          ]
        }
      ]
    }
  ]
}